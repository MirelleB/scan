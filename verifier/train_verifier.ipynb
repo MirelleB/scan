{
  "cells": [
    {
      "cell_type": "code",
      "execution_count": 1,
      "metadata": {
        "colab": {
          "base_uri": "https://localhost:8080/"
        },
        "id": "xQM3d_1BzE2F",
        "outputId": "cb39870e-7609-47cd-e37d-cdd5f7349f05"
      },
      "outputs": [
        {
          "output_type": "stream",
          "name": "stdout",
          "text": [
            "Tue Feb  8 02:12:31 2022       \n",
            "+-----------------------------------------------------------------------------+\n",
            "| NVIDIA-SMI 460.32.03    Driver Version: 460.32.03    CUDA Version: 11.2     |\n",
            "|-------------------------------+----------------------+----------------------+\n",
            "| GPU  Name        Persistence-M| Bus-Id        Disp.A | Volatile Uncorr. ECC |\n",
            "| Fan  Temp  Perf  Pwr:Usage/Cap|         Memory-Usage | GPU-Util  Compute M. |\n",
            "|                               |                      |               MIG M. |\n",
            "|===============================+======================+======================|\n",
            "|   0  Tesla P100-PCIE...  Off  | 00000000:00:04.0 Off |                    0 |\n",
            "| N/A   36C    P0    29W / 250W |      0MiB / 16280MiB |      0%      Default |\n",
            "|                               |                      |                  N/A |\n",
            "+-------------------------------+----------------------+----------------------+\n",
            "                                                                               \n",
            "+-----------------------------------------------------------------------------+\n",
            "| Processes:                                                                  |\n",
            "|  GPU   GI   CI        PID   Type   Process name                  GPU Memory |\n",
            "|        ID   ID                                                   Usage      |\n",
            "|=============================================================================|\n",
            "|  No running processes found                                                 |\n",
            "+-----------------------------------------------------------------------------+\n"
          ]
        }
      ],
      "source": [
        "!nvidia-smi"
      ]
    },
    {
      "cell_type": "markdown",
      "metadata": {
        "id": "aKmmVSz4uxDf"
      },
      "source": [
        "### Instações"
      ]
    },
    {
      "cell_type": "code",
      "execution_count": 2,
      "metadata": {
        "colab": {
          "base_uri": "https://localhost:8080/"
        },
        "id": "WEbEU3BeurLx",
        "outputId": "bd74bb10-8f97-4552-ba81-c889a1963adc"
      },
      "outputs": [
        {
          "output_type": "stream",
          "name": "stdout",
          "text": [
            "\u001b[K     |████████████████████████████████| 3.5 MB 16.3 MB/s \n",
            "\u001b[K     |████████████████████████████████| 101 kB 15.0 MB/s \n",
            "\u001b[K     |████████████████████████████████| 527 kB 69.8 MB/s \n",
            "\u001b[K     |████████████████████████████████| 301 kB 72.0 MB/s \n",
            "\u001b[K     |████████████████████████████████| 895 kB 58.3 MB/s \n",
            "\u001b[K     |████████████████████████████████| 6.8 MB 47.7 MB/s \n",
            "\u001b[K     |████████████████████████████████| 67 kB 6.2 MB/s \n",
            "\u001b[K     |████████████████████████████████| 596 kB 67.6 MB/s \n",
            "\u001b[K     |████████████████████████████████| 397 kB 74.9 MB/s \n",
            "\u001b[K     |████████████████████████████████| 829 kB 67.1 MB/s \n",
            "\u001b[K     |████████████████████████████████| 133 kB 67.9 MB/s \n",
            "\u001b[K     |████████████████████████████████| 952 kB 65.6 MB/s \n",
            "\u001b[K     |████████████████████████████████| 1.1 MB 62.6 MB/s \n",
            "\u001b[K     |████████████████████████████████| 53 kB 2.5 MB/s \n",
            "\u001b[K     |████████████████████████████████| 180 kB 74.1 MB/s \n",
            "\u001b[K     |████████████████████████████████| 131 kB 72.7 MB/s \n",
            "\u001b[K     |████████████████████████████████| 79 kB 9.7 MB/s \n",
            "\u001b[K     |████████████████████████████████| 8.5 MB 55.7 MB/s \n",
            "\u001b[K     |████████████████████████████████| 127 kB 72.4 MB/s \n",
            "\u001b[K     |████████████████████████████████| 63 kB 2.0 MB/s \n",
            "\u001b[K     |████████████████████████████████| 94 kB 3.6 MB/s \n",
            "\u001b[K     |████████████████████████████████| 271 kB 71.8 MB/s \n",
            "\u001b[K     |████████████████████████████████| 144 kB 70.8 MB/s \n",
            "\u001b[K     |████████████████████████████████| 130 kB 72.7 MB/s \n",
            "\u001b[K     |████████████████████████████████| 67 kB 6.4 MB/s \n",
            "\u001b[K     |████████████████████████████████| 64 kB 3.0 MB/s \n",
            "\u001b[?25h  Building wheel for future (setup.py) ... \u001b[?25l\u001b[?25hdone\n",
            "  Building wheel for neptune-client (setup.py) ... \u001b[?25l\u001b[?25hdone\n",
            "\u001b[31mERROR: pip's dependency resolver does not currently take into account all the packages that are installed. This behaviour is the source of the following dependency conflicts.\n",
            "datascience 0.10.6 requires folium==0.2.1, but you have folium 0.8.3 which is incompatible.\u001b[0m\n"
          ]
        }
      ],
      "source": [
        "!pip install -q  transformers num2words pytorch_lightning neptune-client"
      ]
    },
    {
      "cell_type": "code",
      "execution_count": 3,
      "metadata": {
        "colab": {
          "base_uri": "https://localhost:8080/"
        },
        "id": "2DrOtD1Bzgsm",
        "outputId": "23d91eb5-1a97-4295-a06d-880d221822af"
      },
      "outputs": [
        {
          "output_type": "stream",
          "name": "stdout",
          "text": [
            "Mounted at /content/drive\n"
          ]
        }
      ],
      "source": [
        "# mound drive\n",
        "from google.colab import drive\n",
        "drive.mount('/content/drive')"
      ]
    },
    {
      "cell_type": "code",
      "execution_count": 10,
      "metadata": {
        "colab": {
          "base_uri": "https://localhost:8080/"
        },
        "id": "zBJUpdLhzoEn",
        "outputId": "287a8a05-3543-4b3c-ae03-a854a53508a5"
      },
      "outputs": [
        {
          "output_type": "stream",
          "name": "stdout",
          "text": [
            "env: CODE_TRAIN_PATH=/content/drive/MyDrive/MESTRADO/projeto/Experimentos/SCAN/Verificador/Verifier-T5/main-training_rerank.py\n",
            "env: OUT_PATH=/content/drive/MyDrive/MESTRADO/projeto/Experimentos/SCAN/Verificador/Verifier-T5/3e-4/\n",
            "env: TRAIN_SAMPLES=/content/drive/MyDrive/MESTRADO/projeto/Experimentos/SCAN/Verificador/generate-train-examples/train_hipoteses.tsv\n",
            "env: TEST_SAMPLES=/content/drive/MyDrive/MESTRADO/projeto/Experimentos/SCAN/Verificador/generate-train-examples/test_hipoteses.tsv\n",
            "env: MODEL_RESTORE=/content/drive/MyDrive/MESTRADO/projeto/Experimentos/SCAN/Verificador/Verifier-T5/3e-4/last.ckpt\n",
            "env: LOG_RESTORE=/content/drive/MyDrive/MESTRADO/projeto/Experimentos/SCAN/Verificador/Verifier-T5/3e-4/metrics_seed_27_test.tsv\n",
            "env: CHECKPOINT_RESULT=/content/drive/MyDrive/MESTRADO/projeto/Experimentos/SCAN/Verificador/Verifier-T5/top_k_4_num_return_sequences_100_t5_base_test_55_acc.json\n"
          ]
        }
      ],
      "source": [
        "# define paths\n",
        "\n",
        "CODE_TRAIN_PATH = '/content/drive/MyDrive/MESTRADO/projeto/Experimentos/SCAN/Verificador/Verifier-T5/main-training_rerank.py'\n",
        "%env CODE_TRAIN_PATH=$CODE_TRAIN_PATH\n",
        "\n",
        "\n",
        "OUT_PATH = '/content/drive/MyDrive/MESTRADO/projeto/Experimentos/SCAN/Verificador/Verifier-T5/3e-4/'\n",
        "%env OUT_PATH=$OUT_PATH\n",
        "\n",
        "TRAIN_SAMPLES = '/content/drive/MyDrive/MESTRADO/projeto/Experimentos/SCAN/Verificador/generate-train-examples/train_hipoteses.tsv'\n",
        "#TRAIN_SAMPLES = '/content/drive/MyDrive/MESTRADO/projeto/Experimentos/SCAN/Verificador/Verifier-T5/train_new.tsv'\n",
        "%env TRAIN_SAMPLES=$TRAIN_SAMPLES\n",
        "\n",
        "TEST_SAMPLES = '/content/drive/MyDrive/MESTRADO/projeto/Experimentos/SCAN/Verificador/generate-train-examples/test_hipoteses.tsv'\n",
        "#TEST_SAMPLES = '/content/drive/MyDrive/MESTRADO/projeto/Experimentos/SCAN/Verificador/Verifier-T5/train_new.tsv'\n",
        "%env TEST_SAMPLES=$TEST_SAMPLES\n",
        "\n",
        "MODEL_RESTORE = '/content/drive/MyDrive/MESTRADO/projeto/Experimentos/SCAN/Verificador/Verifier-T5/3e-4/last.ckpt'\n",
        "%env MODEL_RESTORE=$MODEL_RESTORE\n",
        "\n",
        "LOG_RESTORE = '/content/drive/MyDrive/MESTRADO/projeto/Experimentos/SCAN/Verificador/Verifier-T5/3e-4/metrics_seed_27_test.tsv'\n",
        "%env LOG_RESTORE=$LOG_RESTORE\n",
        "\n",
        "CHECKPOINT_RESULT = '/content/drive/MyDrive/MESTRADO/projeto/Experimentos/SCAN/Verificador/Verifier-T5/top_k_4_num_return_sequences_100_t5_base_test_55_acc.json'\n",
        "%env CHECKPOINT_RESULT=$CHECKPOINT_RESULT"
      ]
    },
    {
      "cell_type": "markdown",
      "metadata": {
        "id": "YNlIO0V_zq5U"
      },
      "source": [
        "### Treinamento"
      ]
    },
    {
      "cell_type": "code",
      "execution_count": null,
      "metadata": {
        "colab": {
          "base_uri": "https://localhost:8080/"
        },
        "id": "mIKo8EzsxvZK",
        "outputId": "98688ba9-fdc3-4a19-a006-e08c50657009"
      },
      "outputs": [
        {
          "output_type": "stream",
          "name": "stdout",
          "text": [
            "args Namespace(accelerator=None, accumulate_grad_batches=10, amp_backend='native', amp_level=None, auto_lr_find=False, auto_scale_batch_size=False, auto_select_gpus=False, benchmark=False, check_val_every_n_epoch=3, checkpoint_callback=None, default_root_dir=None, detect_anomaly=False, deterministic=False, devices=None, enable_checkpointing=True, enable_model_summary=True, enable_progress_bar=True, fast_dev_run=False, flush_logs_every_n_steps=None, gamma=1.0, gpus=1, gradient_clip_algorithm=None, gradient_clip_val=1.0, input_test='/content/drive/MyDrive/MESTRADO/projeto/Experimentos/SCAN/Verificador/generate-train-examples/test_hipoteses.tsv', input_train='/content/drive/MyDrive/MESTRADO/projeto/Experimentos/SCAN/Verificador/generate-train-examples/train_hipoteses.tsv', input_val='/content/drive/MyDrive/MESTRADO/projeto/Experimentos/SCAN/Verificador/generate-train-examples/test_hipoteses.tsv', ipus=None, limit_predict_batches=1.0, limit_test_batches=1.0, limit_train_batches=1.0, limit_val_batches=1.0, log_every_n_steps=50, log_gpu_memory=None, logger=True, lr=0.003, max_epochs=100, max_seq_length=512, max_steps=-1, max_time=None, min_epochs=None, min_steps=None, model_name_or_path='t5-base', move_metrics_to_cpu=False, multiple_trainloader_mode='max_size_cycle', num_nodes=1, num_processes=1, num_sanity_val_steps=2, num_workers=4, optimizer='AdamW', output_dir='/content/drive/MyDrive/MESTRADO/projeto/Experimentos/SCAN/Verificador/Verifier-T5/3e-4/', overfit_batches=0.0, plugins=None, precision=32, prepare_data_per_node=None, process_position=0, profiler=None, progress_bar_refresh_rate=None, reload_dataloaders_every_epoch=False, reload_dataloaders_every_n_epochs=0, replace_sampler_ddp=True, restore_checkpoint='', restore_logging='None', result_checkpoint='/content/drive/MyDrive/MESTRADO/projeto/Experimentos/SCAN/Verificador/Verifier-T5/top_k_4_num_return_sequences_100_t5_base_test_55_acc.json', resume_from_checkpoint=None, scheduler='StepLR', seed=27, step_size=1000, stochastic_weight_avg=False, strategy=None, sync_batchnorm=False, t_0=2, t_mult=2, terminate_on_nan=None, test_checkpoint='None', test_size=2000, tpu_cores=None, track_grad_norm=-1, train_batch_size=10, train_size=1000, val_batch_size=10, val_check_interval=1.0, val_size=1000, weight_decay=5e-05, weights_save_path=None, weights_summary='top')\n",
            "Global seed set to 27\n",
            "/usr/local/lib/python3.7/dist-packages/torch/utils/data/dataloader.py:481: UserWarning: This DataLoader will create 4 worker processes in total. Our suggested max number of worker in current system is 2, which is smaller than what this DataLoader is going to create. Please be aware that excessive worker creation might get DataLoader running slow or even freeze, lower the worker number to avoid potential slowness/freeze if necessary.\n",
            "  cpuset_checked))\n",
            "/usr/local/lib/python3.7/dist-packages/pytorch_lightning/callbacks/model_checkpoint.py:244: LightningDeprecationWarning: `ModelCheckpoint(every_n_val_epochs)` is deprecated in v1.4 and will be removed in v1.6. Please use `every_n_epochs` instead.\n",
            "  \"`ModelCheckpoint(every_n_val_epochs)` is deprecated in v1.4 and will be removed in v1.6.\"\n",
            "GPU available: True, used: True\n",
            "TPU available: False, using: 0 TPU cores\n",
            "IPU available: False, using: 0 IPUs\n"
          ]
        }
      ],
      "source": [
        "#  --restore_checkpoint=$MODEL_RESTORE\\\n",
        "#  --restore_checkpoint=$MODEL_RESTORE \\\n",
        "#  --restore_logging=$LOG_RESTORE \\\n",
        "#  --test_checkpoint='True'\\\n",
        "!python -u $CODE_TRAIN_PATH \\\n",
        "  --output_dir=$OUT_PATH \\\n",
        "  --model_name_or_path=t5-base\\\n",
        "  --result_checkpoint=$CHECKPOINT_RESULT\\\n",
        "  --input_train=$TRAIN_SAMPLES \\\n",
        "  --input_val=$TEST_SAMPLES \\\n",
        "  --input_test=$TEST_SAMPLES \\\n",
        "  --seed=27\\\n",
        "  --train_batch_size=10 \\\n",
        "  --accumulate_grad_batches=10 \\\n",
        "  --val_batch_size=10 \\\n",
        "  --max_seq_length=512 \\\n",
        "  --num_workers=4 \\\n",
        "  --gpus=1 \\\n",
        "  --optimizer=AdamW \\\n",
        "  --lr=3e-3 \\\n",
        "  --weight_decay=5e-5 \\\n",
        "  --scheduler=StepLR \\\n",
        "  --t_0=2 \\\n",
        "  --t_mult=2 \\\n",
        "  --gamma=1.0 \\\n",
        "  --step_size=1000 \\\n",
        "  --max_epochs=100 \\\n",
        "  --precision=32 \\\n",
        "  --gradient_clip_val=1.0 \\\n",
        "  --check_val_every_n_epoch=3 \\\n"
      ]
    },
    {
      "cell_type": "code",
      "execution_count": null,
      "metadata": {
        "id": "ZC5RoAYWt00o"
      },
      "outputs": [],
      "source": [
        ""
      ]
    },
    {
      "cell_type": "code",
      "execution_count": null,
      "metadata": {
        "id": "v3yF1Hf25pQD"
      },
      "outputs": [],
      "source": [
        "#https://app.neptune.ai/mirelle/scan/e/SCAN-163"
      ]
    }
  ],
  "metadata": {
    "accelerator": "GPU",
    "colab": {
      "collapsed_sections": [],
      "name": "train-verifier.ipynb",
      "provenance": []
    },
    "kernelspec": {
      "display_name": "Python 3",
      "name": "python3"
    },
    "language_info": {
      "name": "python"
    }
  },
  "nbformat": 4,
  "nbformat_minor": 0
}